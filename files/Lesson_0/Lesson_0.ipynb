{
 "cells": [
  {
   "cell_type": "markdown",
   "metadata": {},
   "source": [
    "# Лекция 0\n",
    "\n",
    "## Краткое введение в python и Jupyter"
   ]
  },
  {
   "cell_type": "markdown",
   "metadata": {},
   "source": [
    "&nbsp; Данный блокнот разработан для демострации основных принципов работы с языком программирования python 3 и среды разработки Jupyter, которые понадобятся нам в курсе \"Математические методы для решения технических задач\" с которым знакомятся магистры 5го курса МГТУ им. Н.Э. Баумана по направлению Техническая физика.\n",
    "\n",
    "&nbsp; Python - язык программирования выского уровня, разработанный для решения широкого круга задач. Python является одним из наиболее популярных языков программирования. Освоить синтаксис языка python достаточно просто, тем не менее Python обладает гибким функционалом и поддерживает большое количество методологий программирования, что делает его востребованным во многих отраслях, в том числе и в области решения физических и инженерных задач. \n",
    "\n",
    "&nbsp; Здесь мы рассмотрим лишь часть элементов языка программирования python 3, которые будут нам необходимы для реализации вычислительных методов и визуализации и анализа результатов вычислений."
   ]
  },
  {
   "cell_type": "markdown",
   "metadata": {},
   "source": [
    "## Python для решения задач вычислительной физики"
   ]
  },
  {
   "cell_type": "markdown",
   "metadata": {},
   "source": [
    "### Переменные\n",
    "___"
   ]
  },
  {
   "cell_type": "markdown",
   "metadata": {},
   "source": [
    "Рассмотрим синтаксис основных языковых конструкций python 3. Начнем с инициализации переменных. Python является динамическим языком программирования, а это значит что инициализацю можно выполнять \"на лету\", непосредственно перед использованием переменной. При инициализации переменной не требуется явно задавать тип данных, python автоматически определит тип при присвоении переменной какого-либо значения:"
   ]
  },
  {
   "cell_type": "code",
   "execution_count": 1,
   "metadata": {},
   "outputs": [
    {
     "data": {
      "text/plain": [
       "(4, 2.0, 'three', True)"
      ]
     },
     "execution_count": 1,
     "metadata": {},
     "output_type": "execute_result"
    }
   ],
   "source": [
    "x = 4        # x - целое число, равное 4\n",
    "y = 2.0      # y - число с плавающей точкой, равное 5.0\n",
    "z = 'three'  # z - строка со словом 'three'\n",
    "i = True     # i - логическая переменная со значением True (истина)\n",
    "\n",
    "x, y, z, i"
   ]
  },
  {
   "cell_type": "markdown",
   "metadata": {},
   "source": [
    "Тип переменной можно запросить с помощью функции [`type()`](https://docs.python.org/3/library/functions.html#type)"
   ]
  },
  {
   "cell_type": "code",
   "execution_count": 2,
   "metadata": {},
   "outputs": [
    {
     "data": {
      "text/plain": [
       "(int, float, str, bool)"
      ]
     },
     "execution_count": 2,
     "metadata": {},
     "output_type": "execute_result"
    }
   ],
   "source": [
    "type(x), type(y), type(z), type(i)"
   ]
  },
  {
   "cell_type": "markdown",
   "metadata": {},
   "source": [
    "##### Подсказка\n",
    "Для вывода справки используйте функцию [`help()`](https://docs.python.org/3/library/functions.html#help), например:\n",
    "```python\n",
    "help(type)\n",
    "```"
   ]
  },
  {
   "cell_type": "markdown",
   "metadata": {},
   "source": [
    "Основные арифметические операции:"
   ]
  },
  {
   "cell_type": "code",
   "execution_count": 3,
   "metadata": {},
   "outputs": [
    {
     "data": {
      "text/plain": [
       "(6.0, 2.0, 2.0, 8.0, 16.0)"
      ]
     },
     "execution_count": 3,
     "metadata": {},
     "output_type": "execute_result"
    }
   ],
   "source": [
    "a = x+y    # '+' сложение \n",
    "b = x-y    # '-' вычитание\n",
    "c = x/y    # '/' деление\n",
    "d = x*y    # '*' умножение\n",
    "e = x**y   # '**' возведение в степень\n",
    "\n",
    "a,b,c,d,e"
   ]
  },
  {
   "cell_type": "markdown",
   "metadata": {},
   "source": [
    "### Логические операторы, ветвление\n",
    "___"
   ]
  },
  {
   "cell_type": "markdown",
   "metadata": {},
   "source": [
    "Над переменными логического типа можно выполнять следующие логические операции:"
   ]
  },
  {
   "cell_type": "code",
   "execution_count": 4,
   "metadata": {},
   "outputs": [
    {
     "data": {
      "text/plain": [
       "(False, True, False)"
      ]
     },
     "execution_count": 4,
     "metadata": {},
     "output_type": "execute_result"
    }
   ],
   "source": [
    "statement1 = True\n",
    "statement2 = False\n",
    "\n",
    "a = statement1 and statement2   # 'and' логический оператор 'и'\n",
    "b = statement1 or statement2    # 'or' логический оператор 'или'\n",
    "c = not statement1              # 'not' логический оператор 'не'\n",
    "\n",
    "a, b, c"
   ]
  },
  {
   "cell_type": "markdown",
   "metadata": {},
   "source": [
    "Для обработки условий в python используется оператор `if(условие): else:`"
   ]
  },
  {
   "cell_type": "code",
   "execution_count": 5,
   "metadata": {},
   "outputs": [
    {
     "name": "stdout",
     "output_type": "stream",
     "text": [
      "Условие выполнено\n"
     ]
    }
   ],
   "source": [
    "condition = True\n",
    "if (condition):                    # условие на переменную condition                                   \n",
    "    print(\"Условие выполнено\")     # функция print используется для вывода\n",
    "    \n",
    "else:                              # если условие ложно (condition = False)\n",
    "    print(\"Условие не выполнено\")  # выполняется блок программы \n",
    "                                   # за оператором else"
   ]
  },
  {
   "cell_type": "markdown",
   "metadata": {},
   "source": [
    "Обратите внимание на индентацию. В python индентация определяет разделение программы на отдельные блоки. Индентация операторов внутри блока должна быть одинаковой."
   ]
  },
  {
   "cell_type": "markdown",
   "metadata": {},
   "source": [
    "Операции сравнения численных переменных дают результат логического типа, и их можно использовать в операторах ветвления:"
   ]
  },
  {
   "cell_type": "code",
   "execution_count": 6,
   "metadata": {},
   "outputs": [
    {
     "name": "stdout",
     "output_type": "stream",
     "text": [
      "x <= y : True. x => y : False.\n",
      "x != y\n",
      "x == y : False. x != y : True.\n"
     ]
    }
   ],
   "source": [
    "# инициализируем две переменные с плавающей запятой\n",
    "x = 1.0\n",
    "y = 2.0\n",
    "\n",
    "# инициализируем две логические переменные\n",
    "condition1 = x <= y # True если x меньше или равно y\n",
    "condition2 = x >= y # True если x больше или равно y\n",
    "\n",
    "# выведем значения переменных condition1 и condition2 снабдив их комментариями\n",
    "print(\"x <= y : %s. x => y : %s.\" % (condition1,condition2))\n",
    "\n",
    "# используем операции сравнения x и y в качестве условия оператора if\n",
    "if ((x <= y) and (x >= y)):\n",
    "    print(\"x == y\")\n",
    "else:\n",
    "    print(\"x != y\")\n",
    "    \n",
    "# инициализируем еще две логические переменные\n",
    "condition3 = x == y # True если x равно y\n",
    "condition4 = x != y # True если x не равно y\n",
    "\n",
    "# выведем значения переменных condition3 и condition4 \n",
    "print(\"x == y : %s. x != y : %s.\" % (condition3,condition4))\n"
   ]
  },
  {
   "cell_type": "markdown",
   "metadata": {},
   "source": [
    "### Циклы\n",
    "___"
   ]
  },
  {
   "cell_type": "markdown",
   "metadata": {},
   "source": [
    "Для многократного повторения определенных действий используются циклы. В python цикл организуется с помощью конструкции `for in:`"
   ]
  },
  {
   "cell_type": "code",
   "execution_count": 7,
   "metadata": {},
   "outputs": [
    {
     "name": "stdout",
     "output_type": "stream",
     "text": [
      "1\n",
      "2\n",
      "3\n",
      "4\n",
      "10\n",
      "5.0\n",
      "John\n"
     ]
    }
   ],
   "source": [
    "for i in 1,2,3,4,10,5.0,'John': \n",
    "    print(i)         "
   ]
  },
  {
   "cell_type": "markdown",
   "metadata": {},
   "source": [
    "Здесь `i` - переменная итерации цикла, она по очереди принимает значения из списка справа от `in`. В списке могут быть переменные разного типа. Для наших задач, как правило в качестве `i` будет выступать целочисленный индекс меняющийся в широком диапазоне значений. Чтобы создать такой список значений удобно воспользоваться функцией [`range()`](https://docs.python.org/3/library/functions.html#func-range):"
   ]
  },
  {
   "cell_type": "code",
   "execution_count": 8,
   "metadata": {},
   "outputs": [
    {
     "name": "stdout",
     "output_type": "stream",
     "text": [
      "2\n",
      "3\n",
      "4\n",
      "5\n",
      "6\n",
      "7\n",
      "8\n",
      "9\n",
      "10\n"
     ]
    }
   ],
   "source": [
    "for i in range(2,11,1): \n",
    "    print(i) "
   ]
  },
  {
   "cell_type": "markdown",
   "metadata": {},
   "source": [
    "Здесь `range(2,11,1)` создает список значений начиная от 2 и заканчивая 10, с шагом 1. Ветвления и циклы можно использовать совместно, однако необходимо соблюдать индентацию:"
   ]
  },
  {
   "cell_type": "code",
   "execution_count": 9,
   "metadata": {},
   "outputs": [
    {
     "name": "stdout",
     "output_type": "stream",
     "text": [
      "i меньше 5\n",
      "i меньше 5\n",
      "i меньше 5\n",
      "i меньше 5\n",
      "6\n",
      "7\n",
      "8\n",
      "9\n",
      "10\n"
     ]
    }
   ],
   "source": [
    "for i in range(2,11,1): \n",
    "    if (i>5):\n",
    "        print(i)\n",
    "    else:\n",
    "        print(\"i меньше 5\")    "
   ]
  },
  {
   "cell_type": "markdown",
   "metadata": {},
   "source": [
    "### Библиотеки\n",
    "___"
   ]
  },
  {
   "cell_type": "markdown",
   "metadata": {},
   "source": [
    "Для того чтобы раскрыть возможности языка python в полной мере, необходимо пользоваться сторонними библиотеками, значительно расширяющими доступный функционал языка. Для python разработано большое количество библиотек, среди которых есть несколько наиболее полезных в области математического моделирования. Мы будем часто использовать такие библиотеки как [**NumPy**](https://numpy.org/), [**SciPy**](https://www.scipy.org/) и [**Matplotlib**](https://matplotlib.org/) в которых в частности содержится богатый набор инструментов для работы с массивами, символьных вычислений, построения графиков, решатения алгебарических, дифференциальных уравнений, уравнений в частных производных и другие полезные функции для решения задач вычислительной физики."
   ]
  },
  {
   "cell_type": "markdown",
   "metadata": {},
   "source": [
    "Для загрузки библиотек используется оператор `import`"
   ]
  },
  {
   "cell_type": "code",
   "execution_count": 10,
   "metadata": {},
   "outputs": [],
   "source": [
    "import numpy as np               # загрузка библиотеки numpy, процедуры numpy\n",
    "                                 # будут доступны по сокращению \"np\"\n",
    "from matplotlib import pyplot    # загрузка модуля pyplot из библиотеки matplotlib"
   ]
  },
  {
   "cell_type": "markdown",
   "metadata": {},
   "source": [
    "Большинство возможностей библиотек будет раскрыто непосредственно в ходе работы над практическими задачами в последующих лекциях. Здесь покажем лишь некоторые из них для демонстрации принципов работы с процеедурами из библиотек в python. Одной из наиболее востребованных в курсе функций будет функция [`linspace()`](http://docs.scipy.org/doc/numpy/reference/generated/numpy.linspace.html) создания массива из чисел на равном расстоянии друг от друга:"
   ]
  },
  {
   "cell_type": "code",
   "execution_count": 11,
   "metadata": {},
   "outputs": [
    {
     "name": "stdout",
     "output_type": "stream",
     "text": [
      "[0.  0.1 0.2 0.3 0.4 0.5 0.6 0.7 0.8 0.9 1. ]\n"
     ]
    }
   ],
   "source": [
    "array = np.linspace(0,1,11)    # обращение к процедуре linspace из библиотеки \n",
    "                               # numpy. Первый аргумент - начальное значение\n",
    "                               # второй агумент - конечное значение, третий - \n",
    "                               # количество элементов в массиве\n",
    "print(array)"
   ]
  },
  {
   "cell_type": "markdown",
   "metadata": {},
   "source": [
    "Нумерация элементов массива начинается с 0. Можно работать как с отдельными элементами массива, так и с группами элементов:"
   ]
  },
  {
   "cell_type": "code",
   "execution_count": 12,
   "metadata": {},
   "outputs": [
    {
     "data": {
      "text/plain": [
       "(0.0, 0.1, array([0.2, 0.3, 0.4]))"
      ]
     },
     "execution_count": 12,
     "metadata": {},
     "output_type": "execute_result"
    }
   ],
   "source": [
    "array[0], array[1], array[2:5]\n"
   ]
  },
  {
   "cell_type": "markdown",
   "metadata": {},
   "source": [
    "Отдельные элементы в массиве можно переопределить:"
   ]
  },
  {
   "cell_type": "code",
   "execution_count": 13,
   "metadata": {},
   "outputs": [
    {
     "data": {
      "text/plain": [
       "array([ 0. , 10. ,  0.2,  0.3,  0.4,  0.5,  0.6,  0.7,  0.8,  0.9,  1. ])"
      ]
     },
     "execution_count": 13,
     "metadata": {},
     "output_type": "execute_result"
    }
   ],
   "source": [
    "array[1]=10   # приравниваем второй (с индеком 1) элемент массива  числу 10\n",
    "array"
   ]
  },
  {
   "cell_type": "markdown",
   "metadata": {},
   "source": [
    "Чтобы узнать длину массива можно воспользоваться командой [`len()`](https://docs.python.org/3/library/functions.html#len)"
   ]
  },
  {
   "cell_type": "code",
   "execution_count": 14,
   "metadata": {},
   "outputs": [
    {
     "data": {
      "text/plain": [
       "11"
      ]
     },
     "execution_count": 14,
     "metadata": {},
     "output_type": "execute_result"
    }
   ],
   "source": [
    "len(array)"
   ]
  },
  {
   "cell_type": "markdown",
   "metadata": {},
   "source": [
    "Для построения графиков используется функция [`plot()`](https://matplotlib.org/3.2.1/api/_as_gen/matplotlib.pyplot.plot.html) библиотеки **Matplotlib**.  "
   ]
  },
  {
   "cell_type": "code",
   "execution_count": 15,
   "metadata": {},
   "outputs": [
    {
     "data": {
      "image/png": "[encoded data removed]",
      "text/plain": [
       "<Figure size 432x288 with 1 Axes>"
      ]
     },
     "metadata": {
      "needs_background": "light"
     },
     "output_type": "display_data"
    }
   ],
   "source": [
    "t = np.linspace(0.0, 2.0, 101)      # задаем массив t=0.0..2.0 из 101 элемента\n",
    "s = 1 + np.sin(2 * np.pi * t)       # для каждого элемента t находим 1+sin(2*pi*t)\n",
    "\n",
    "fig = pyplot.figure()               # создаем график\n",
    "pyplot.plot(t, s, linewidth=4)      # задаем данные для графика\n",
    "fig.suptitle('Простой график y(t)=1+sin(2$\\pi$t)', fontsize=20) # подпись\n",
    "pyplot.xlabel('t', fontsize=18)     # ось t \n",
    "pyplot.ylabel('y(t)', fontsize=18)  # ось y\n",
    "\n",
    "pyplot.show()                       # выводим график на экран"
   ]
  },
  {
   "cell_type": "markdown",
   "metadata": {},
   "source": [
    "### Пользовательские функции\n",
    "___"
   ]
  },
  {
   "cell_type": "markdown",
   "metadata": {},
   "source": [
    "При написании программ удобно разделять их на отдельные подпрограммы, реализующе ту или иную часть вычислений. Для созания ползовательских подпрограмм используется оператор `def название_функции(аргументы):`"
   ]
  },
  {
   "cell_type": "code",
   "execution_count": 16,
   "metadata": {},
   "outputs": [],
   "source": [
    "def avg_number(x, y):       # объявление функции avg_number\n",
    "    '''\n",
    "    Функция avg_number рассчитывает среднее арифметическое двух аргумнтов x и y\n",
    "    и выводит его на экран\n",
    "    '''\n",
    "    avg = (x+y)/2           # расчет среднего арифметического в переменной avg\n",
    "    print(\"Среднее от %r и %r равно %r\"% (x,y,avg)) # вывод\n",
    "    return(avg)             # результат работы подпрограммы "
   ]
  },
  {
   "cell_type": "markdown",
   "metadata": {},
   "source": [
    "После объявления подпрограммы, её можно вызывать с разными аргументами просто используя её название:"
   ]
  },
  {
   "cell_type": "code",
   "execution_count": 17,
   "metadata": {},
   "outputs": [
    {
     "name": "stdout",
     "output_type": "stream",
     "text": [
      "Среднее от 1 и 2 равно 1.5\n",
      "Среднее от 5 и 6 равно 5.5\n"
     ]
    },
    {
     "data": {
      "text/plain": [
       "(1.5, 5.5)"
      ]
     },
     "execution_count": 17,
     "metadata": {},
     "output_type": "execute_result"
    }
   ],
   "source": [
    "a = avg_number(1,2)\n",
    "b = avg_number(5,6)\n",
    "a,b"
   ]
  },
  {
   "cell_type": "markdown",
   "metadata": {},
   "source": [
    "### Ссылки\n",
    "\n",
    "Далее приводятся сслыки на материалы для дальнейшего изучения языка программирования python 3:\n",
    "\n",
    "1. Оффициальный tutorial по языку программирования python (https://docs.python.org/3/tutorial/) [eng]\n",
    "2. Интерактивная платформа для изучения основ python (https://www.learnpython.org/) [eng]\n",
    "3. Введение в python от opentechschool.org (https://www.opentechschool.org/) [eng]\n",
    "4. Видео курс \"Основы языка Python\" от geekbrains (https://geekbrains.ru/courses/950) [ru]\n",
    "5. Видео курс \"Python Programming: A Concise Introduction\" от Wesleyan University (https://www.coursera.org/learn/python-programming-introduction) [eng]\n",
    "6. Видео курс \"Основы программирования на Python\" от ВШЭ (https://www.coursera.org/learn/python-osnovy-programmirovaniya) [ru]\n",
    "___"
   ]
  },
  {
   "cell_type": "markdown",
   "metadata": {},
   "source": [
    "**Ячейка снизу загружает стилевую конфигурацию блокнота.**"
   ]
  },
  {
   "cell_type": "code",
   "execution_count": 18,
   "metadata": {},
   "outputs": [
    {
     "data": {
      "text/html": [
       "<link href='http://fonts.googleapis.com/css?family=Alegreya+Sans:100,300,400,500,700,800,900,100italic,300italic,400italic,500italic,700italic,800italic,900italic' rel='stylesheet' type='text/css'>\n",
       "<link href='http://fonts.googleapis.com/css?family=Arvo:400,700,400italic' rel='stylesheet' type='text/css'>\n",
       "<link href='http://fonts.googleapis.com/css?family=PT+Mono' rel='stylesheet' type='text/css'>\n",
       "<link href='http://fonts.googleapis.com/css?family=Philosopher:400,700,400italic,700italic' rel='stylesheet' type='text/css'>\n",
       "<link href='http://fonts.googleapis.com/css?family=Monserrat:400,500&display=swap&subset=cyrillic' rel='stylesheet' type='text/css'>\n",
       "\n",
       "\n",
       "<style>\n",
       "\n",
       "/*#notebook_panel { /* main background */\n",
       "/*    background: #888;\n",
       "    color: #f6f6f6;\n",
       "}*/\n",
       "\n",
       "\n",
       "div.cell { /* set cell width to about 80 chars */\n",
       "    width: 1100px;\n",
       "}\n",
       "\n",
       "div #notebook { /* centre the content */\n",
       "    background: #f6f6f6; /* white background for content */\n",
       "    width: 1200px;\n",
       "    margin: auto;\n",
       "    padding-left: 1em;\n",
       "}\n",
       "\n",
       "#notebook li { /* More space between bullet points */\n",
       "margin-top:0.8em;\n",
       "}\n",
       "\n",
       "\n",
       "\n",
       "/* change markdown inline code style */\n",
       ".rendered_html code {\n",
       "  background-color: #d5eaff;\n",
       "  margin: 0px 2px;\n",
       "  font-family: 'Source Code Pro' sans-serif;\n",
       "  font-size: 12pt;\n",
       "  border: solid 0.5px white;\n",
       "  box-sizing: border-box;\n",
       "}\n",
       "/* change markdown code snipet style */\n",
       ".rendered_html pre code {\n",
       "  background-color: #f7f7f7;\n",
       "  font-size: 12pt;\n",
       "  font-family: 'Source Code Pro' sans-serif;\n",
       "}\n",
       "/* change markdown code snipet wrapper style */\n",
       ".rendered_html pre {\n",
       "  margin: 1em 2em;\n",
       "  padding: 0px;\n",
       "  background-color: #f7f7f7;\n",
       "  border-left: solid 5px #d5eaff;\n",
       "  padding-left: 5px;\n",
       "}\n",
       "\n",
       "/* draw border around running cells */\n",
       "div.cell.border-box-sizing.code_cell.running { \n",
       "    border: 3px solid #111;\n",
       "}\n",
       "\n",
       "/* Put a solid color box around each cell and its output, visually linking them together */\n",
       "div.cell.code_cell {\n",
       "\tfont-family: 'Source Code Pro' sans-serif;\n",
       "    background-color: #A3FFD2 ; /*  #AED2C6; */ \n",
       "    border-radius: 5px; /* rounded borders */\n",
       "    padding: 1em;\n",
       "    margin-top: 1em;\n",
       "}\n",
       "\n",
       "div.text_cell_render{\n",
       "    font-family: 'Alegreya Sans', sans-serif;\n",
       "    line-height: 130%;\n",
       "    font-size: 15pt;\n",
       "    width:900px;\n",
       "    margin-left:auto;\n",
       "    margin-right:auto;\n",
       "}\n",
       "\n",
       "\n",
       "/* Formatting for header cells */\n",
       ".text_cell_render h1 {\n",
       "    font-family: 'Philosopher', sans-serif;\n",
       "    font-weight: 400;\n",
       "    font-size: 40pt;\n",
       "    line-height: 100%;\n",
       "    color: rgb(12,85,97);\n",
       "    margin-bottom: 0.1em;\n",
       "    margin-top: 0.1em;\n",
       "    display: block;\n",
       "}\t\n",
       ".text_cell_render h2 {\n",
       "    font-family: 'Philosopher', serif;\n",
       "    font-weight: 700;\n",
       "    font-size: 30pt;\n",
       "    line-height: 100%;\n",
       "    color: rgb(171,165,131);\n",
       "    margin-bottom: 0.1em;\n",
       "    margin-top: 0.1em;\n",
       "    display: block;\n",
       "}\t\n",
       "\n",
       ".text_cell_render h3 {\n",
       "    font-family: 'Philosopher', serif;\n",
       "    font-size: 25pt;\n",
       "    margin-top:12px;\n",
       "    margin-bottom: 3px;\n",
       "    font-style: italic;\n",
       "    color: rgb(95,92,72);\n",
       "}\n",
       "\n",
       ".text_cell_render h4 {\n",
       "    font-family: 'Philosopher', serif;\n",
       "    font-size: 20pt;\n",
       "    color: #CD2305;\n",
       "}\n",
       "\n",
       ".text_cell_render h5 {\n",
       "    font-family: 'Alegreya Sans', sans-serif;\n",
       "    font-weight: 300;\n",
       "    font-size: 16pt;\n",
       "    color: #CD2305;\n",
       "    font-style: italic;\n",
       "    margin-bottom: .1em;\n",
       "    margin-top: 0.1em;\n",
       "    display: block;\n",
       "}\n",
       "\n",
       ".text_cell_render h6 {\n",
       "    font-family: 'PT Mono', sans-serif;\n",
       "    font-weight: 300;\n",
       "    font-size: 10pt;\n",
       "    color: grey;\n",
       "    margin-bottom: 1px;\n",
       "    margin-top: 1px;\n",
       "}\n",
       "\n",
       ".text_cell_render p {\n",
       "\tfont-family: 'Alegreya Sans', sans-serif;\n",
       "\tfont-size: 15pt;\n",
       "\tcolor: black;\n",
       "\ttext-align: justify;\n",
       "\ttext-justify: inter-word;\n",
       "}\n",
       "\n",
       ".rendered_html table, .rendered_html td, .rendered_html th {\n",
       "    font-size: 12pt;\n",
       "}\n",
       "\n",
       ".CodeMirror{\n",
       "    font-family: \"PT Mono\";\n",
       "    font-size: 100%;\n",
       "}\n",
       "\n",
       "</style>\n"
      ],
      "text/plain": [
       "<IPython.core.display.HTML object>"
      ]
     },
     "execution_count": 18,
     "metadata": {},
     "output_type": "execute_result"
    }
   ],
   "source": [
    "from IPython.core.display import HTML\n",
    "def css_styling():\n",
    "    styles = open(\"./custom.css\", \"r\").read()\n",
    "    return HTML(styles)\n",
    "css_styling()"
   ]
  },
  {
   "cell_type": "code",
   "execution_count": null,
   "metadata": {},
   "outputs": [],
   "source": []
  }
 ],
 "metadata": {
  "kernelspec": {
   "display_name": "Python 3",
   "language": "python",
   "name": "python3"
  },
  "language_info": {
   "codemirror_mode": {
    "name": "ipython",
    "version": 3
   },
   "file_extension": ".py",
   "mimetype": "text/x-python",
   "name": "python",
   "nbconvert_exporter": "python",
   "pygments_lexer": "ipython3",
   "version": "3.7.7"
  }
 },
 "nbformat": 4,
 "nbformat_minor": 4
}
